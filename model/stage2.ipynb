{
  "nbformat": 4,
  "nbformat_minor": 0,
  "metadata": {
    "colab": {
      "name": "stage2.ipynb",
      "provenance": []
    },
    "kernelspec": {
      "name": "python3",
      "display_name": "Python 3"
    },
    "language_info": {
      "name": "python"
    },
    "accelerator": "GPU"
  },
  "cells": [
    {
      "cell_type": "markdown",
      "metadata": {
        "id": "bgQbFaTLdKx9"
      },
      "source": [
        "# Libraries"
      ]
    },
    {
      "cell_type": "code",
      "metadata": {
        "id": "yl_22SH8aJ8M"
      },
      "source": [
        "import warnings\n",
        "warnings.filterwarnings('ignore')\n",
        "\n",
        "import json\n",
        "import pandas as pd\n",
        "import numpy as np\n",
        "import typing as tp\n",
        "import time\n",
        "from contextlib import contextmanager\n",
        "from pathlib import Path\n",
        "from sklearn.metrics import mean_squared_error\n",
        "from sklearn.linear_model import RidgeCV"
      ],
      "execution_count": null,
      "outputs": []
    },
    {
      "cell_type": "markdown",
      "metadata": {
        "id": "kilh-QXFasv2"
      },
      "source": [
        "# Utils"
      ]
    },
    {
      "cell_type": "code",
      "metadata": {
        "id": "BHieZkXPaZSi"
      },
      "source": [
        "DATADIR = Path('stage1')\n",
        "OUTDIR = Path('output')\n",
        "t = 15117"
      ],
      "execution_count": null,
      "outputs": []
    },
    {
      "cell_type": "code",
      "metadata": {
        "id": "oEEoF4A0dulq"
      },
      "source": [
        "@contextmanager\n",
        "def timer(logger=None, format_str='{:.3f}[s]', prefix=None, suffix=None):\n",
        "    if prefix: format_str = str(prefix) + format_str\n",
        "    if suffix: format_str = format_str + str(suffix)\n",
        "    start = time.time()\n",
        "    yield\n",
        "    d = time.time() - start\n",
        "    out_str = format_str.format(d)\n",
        "    if logger:\n",
        "        logger.info(out_str)\n",
        "    else:\n",
        "        print(out_str)"
      ],
      "execution_count": null,
      "outputs": []
    },
    {
      "cell_type": "markdown",
      "metadata": {
        "id": "5KgmsJ2Xazkk"
      },
      "source": [
        "# Data Loading"
      ]
    },
    {
      "cell_type": "code",
      "metadata": {
        "colab": {
          "base_uri": "https://localhost:8080/"
        },
        "id": "YHvWF_niZl-w",
        "outputId": "d6044e37-a3b5-4d96-f991-8c93226dee1c"
      },
      "source": [
        "from google.colab import drive\n",
        "drive.mount('/content/drive')\n",
        "%cd \"drive/My Drive/probspace_citations\""
      ],
      "execution_count": null,
      "outputs": [
        {
          "output_type": "stream",
          "text": [
            "Mounted at /content/drive\n",
            "/content/drive/My Drive/probspace_citations\n"
          ],
          "name": "stdout"
        }
      ]
    },
    {
      "cell_type": "code",
      "metadata": {
        "id": "l6BVrU4HuVxY"
      },
      "source": [
        "stage1 = pd.read_csv(DATADIR / 'stage1.csv')"
      ],
      "execution_count": null,
      "outputs": []
    },
    {
      "cell_type": "code",
      "metadata": {
        "colab": {
          "base_uri": "https://localhost:8080/",
          "height": 439
        },
        "id": "rO3AUu6Jwy-y",
        "outputId": "2f6199e1-443b-418e-9021-e74dfaf7d33a"
      },
      "source": [
        "stage1.cites = np.log1p(stage1.cites)\n",
        "stage1"
      ],
      "execution_count": null,
      "outputs": [
        {
          "output_type": "execute_result",
          "data": {
            "text/html": [
              "<div>\n",
              "<style scoped>\n",
              "    .dataframe tbody tr th:only-of-type {\n",
              "        vertical-align: middle;\n",
              "    }\n",
              "\n",
              "    .dataframe tbody tr th {\n",
              "        vertical-align: top;\n",
              "    }\n",
              "\n",
              "    .dataframe thead th {\n",
              "        text-align: right;\n",
              "    }\n",
              "</style>\n",
              "<table border=\"1\" class=\"dataframe\">\n",
              "  <thead>\n",
              "    <tr style=\"text-align: right;\">\n",
              "      <th></th>\n",
              "      <th>cites</th>\n",
              "      <th>pred_888feat_lgb1</th>\n",
              "      <th>pred_888feat_lgb2</th>\n",
              "      <th>pred_888feat_cat2</th>\n",
              "      <th>pred_888feat_cat1</th>\n",
              "      <th>pred_888feat_lgb3</th>\n",
              "      <th>pred_888feat_cat3</th>\n",
              "      <th>pred_888feat_xgb2</th>\n",
              "      <th>pred_888feat_lgb4</th>\n",
              "      <th>pred_888feat_lgb5</th>\n",
              "      <th>pred_888feat_lgb6</th>\n",
              "    </tr>\n",
              "  </thead>\n",
              "  <tbody>\n",
              "    <tr>\n",
              "      <th>0</th>\n",
              "      <td>2.079442</td>\n",
              "      <td>2.278676</td>\n",
              "      <td>2.304112</td>\n",
              "      <td>2.288384</td>\n",
              "      <td>2.281731</td>\n",
              "      <td>2.292609</td>\n",
              "      <td>2.282578</td>\n",
              "      <td>2.288522</td>\n",
              "      <td>2.284216</td>\n",
              "      <td>2.294980</td>\n",
              "      <td>2.297394</td>\n",
              "    </tr>\n",
              "    <tr>\n",
              "      <th>1</th>\n",
              "      <td>5.241747</td>\n",
              "      <td>4.858338</td>\n",
              "      <td>4.859591</td>\n",
              "      <td>4.925864</td>\n",
              "      <td>4.951648</td>\n",
              "      <td>4.859817</td>\n",
              "      <td>4.951661</td>\n",
              "      <td>4.859949</td>\n",
              "      <td>4.877359</td>\n",
              "      <td>4.889964</td>\n",
              "      <td>4.870561</td>\n",
              "    </tr>\n",
              "    <tr>\n",
              "      <th>2</th>\n",
              "      <td>2.197225</td>\n",
              "      <td>2.209237</td>\n",
              "      <td>2.212626</td>\n",
              "      <td>2.228004</td>\n",
              "      <td>2.194563</td>\n",
              "      <td>2.194233</td>\n",
              "      <td>2.203873</td>\n",
              "      <td>2.205231</td>\n",
              "      <td>2.197676</td>\n",
              "      <td>2.217161</td>\n",
              "      <td>2.213708</td>\n",
              "    </tr>\n",
              "    <tr>\n",
              "      <th>3</th>\n",
              "      <td>1.098612</td>\n",
              "      <td>2.523394</td>\n",
              "      <td>2.532064</td>\n",
              "      <td>2.771250</td>\n",
              "      <td>2.715540</td>\n",
              "      <td>2.502572</td>\n",
              "      <td>2.721692</td>\n",
              "      <td>2.614595</td>\n",
              "      <td>2.538510</td>\n",
              "      <td>2.586742</td>\n",
              "      <td>2.481297</td>\n",
              "    </tr>\n",
              "    <tr>\n",
              "      <th>4</th>\n",
              "      <td>2.708050</td>\n",
              "      <td>2.669004</td>\n",
              "      <td>2.692888</td>\n",
              "      <td>2.629841</td>\n",
              "      <td>2.653717</td>\n",
              "      <td>2.699101</td>\n",
              "      <td>2.627605</td>\n",
              "      <td>2.667642</td>\n",
              "      <td>2.712665</td>\n",
              "      <td>2.691833</td>\n",
              "      <td>2.685774</td>\n",
              "    </tr>\n",
              "    <tr>\n",
              "      <th>...</th>\n",
              "      <td>...</td>\n",
              "      <td>...</td>\n",
              "      <td>...</td>\n",
              "      <td>...</td>\n",
              "      <td>...</td>\n",
              "      <td>...</td>\n",
              "      <td>...</td>\n",
              "      <td>...</td>\n",
              "      <td>...</td>\n",
              "      <td>...</td>\n",
              "      <td>...</td>\n",
              "    </tr>\n",
              "    <tr>\n",
              "      <th>74196</th>\n",
              "      <td>NaN</td>\n",
              "      <td>3.295104</td>\n",
              "      <td>3.293745</td>\n",
              "      <td>3.312605</td>\n",
              "      <td>3.303358</td>\n",
              "      <td>3.280196</td>\n",
              "      <td>3.309491</td>\n",
              "      <td>3.312790</td>\n",
              "      <td>3.296582</td>\n",
              "      <td>3.286474</td>\n",
              "      <td>3.282828</td>\n",
              "    </tr>\n",
              "    <tr>\n",
              "      <th>74197</th>\n",
              "      <td>NaN</td>\n",
              "      <td>1.790466</td>\n",
              "      <td>1.793509</td>\n",
              "      <td>1.802541</td>\n",
              "      <td>1.799175</td>\n",
              "      <td>1.795068</td>\n",
              "      <td>1.798720</td>\n",
              "      <td>1.829115</td>\n",
              "      <td>1.801530</td>\n",
              "      <td>1.801121</td>\n",
              "      <td>1.794718</td>\n",
              "    </tr>\n",
              "    <tr>\n",
              "      <th>74198</th>\n",
              "      <td>NaN</td>\n",
              "      <td>2.490395</td>\n",
              "      <td>2.486748</td>\n",
              "      <td>2.400805</td>\n",
              "      <td>2.399785</td>\n",
              "      <td>2.489409</td>\n",
              "      <td>2.397732</td>\n",
              "      <td>2.454541</td>\n",
              "      <td>2.483456</td>\n",
              "      <td>2.490948</td>\n",
              "      <td>2.489340</td>\n",
              "    </tr>\n",
              "    <tr>\n",
              "      <th>74199</th>\n",
              "      <td>NaN</td>\n",
              "      <td>1.744697</td>\n",
              "      <td>1.745020</td>\n",
              "      <td>1.763783</td>\n",
              "      <td>1.764632</td>\n",
              "      <td>1.740299</td>\n",
              "      <td>1.759669</td>\n",
              "      <td>1.802432</td>\n",
              "      <td>1.743573</td>\n",
              "      <td>1.761053</td>\n",
              "      <td>1.741536</td>\n",
              "    </tr>\n",
              "    <tr>\n",
              "      <th>74200</th>\n",
              "      <td>NaN</td>\n",
              "      <td>4.247572</td>\n",
              "      <td>4.253007</td>\n",
              "      <td>4.147192</td>\n",
              "      <td>4.133711</td>\n",
              "      <td>4.249451</td>\n",
              "      <td>4.148236</td>\n",
              "      <td>4.211498</td>\n",
              "      <td>4.247002</td>\n",
              "      <td>4.226889</td>\n",
              "      <td>4.246514</td>\n",
              "    </tr>\n",
              "  </tbody>\n",
              "</table>\n",
              "<p>74201 rows × 11 columns</p>\n",
              "</div>"
            ],
            "text/plain": [
              "          cites  pred_888feat_lgb1  ...  pred_888feat_lgb5  pred_888feat_lgb6\n",
              "0      2.079442           2.278676  ...           2.294980           2.297394\n",
              "1      5.241747           4.858338  ...           4.889964           4.870561\n",
              "2      2.197225           2.209237  ...           2.217161           2.213708\n",
              "3      1.098612           2.523394  ...           2.586742           2.481297\n",
              "4      2.708050           2.669004  ...           2.691833           2.685774\n",
              "...         ...                ...  ...                ...                ...\n",
              "74196       NaN           3.295104  ...           3.286474           3.282828\n",
              "74197       NaN           1.790466  ...           1.801121           1.794718\n",
              "74198       NaN           2.490395  ...           2.490948           2.489340\n",
              "74199       NaN           1.744697  ...           1.761053           1.741536\n",
              "74200       NaN           4.247572  ...           4.226889           4.246514\n",
              "\n",
              "[74201 rows x 11 columns]"
            ]
          },
          "metadata": {
            "tags": []
          },
          "execution_count": 15
        }
      ]
    },
    {
      "cell_type": "code",
      "metadata": {
        "id": "3E-QQk1lrsrl"
      },
      "source": [
        "X_stage1 = stage1[['pred_888feat_lgb1', 'pred_888feat_lgb2', 'pred_888feat_lgb3', 'pred_888feat_lgb4', 'pred_888feat_lgb5', 'pred_888feat_lgb6', 'pred_888feat_cat1', 'pred_888feat_cat2', 'pred_888feat_cat3']][:t].values.reshape(-1,9)\n",
        "y_stage1 = stage1['cites'][:t].values.reshape(-1,1)"
      ],
      "execution_count": null,
      "outputs": []
    },
    {
      "cell_type": "markdown",
      "metadata": {
        "id": "CUviYL27vZ07"
      },
      "source": [
        "# Ridge"
      ]
    },
    {
      "cell_type": "code",
      "metadata": {
        "id": "isOUpZtBrs2m",
        "colab": {
          "base_uri": "https://localhost:8080/"
        },
        "outputId": "3b63fa0a-5459-45db-fcb4-fa6cc6ab9b55"
      },
      "source": [
        "alphas_list = [0.001, 0.005, 0.01, 0.05, 0.1, 0.5, 1, 5, 10, 50, 100]\n",
        "clf = RidgeCV(alphas=alphas_list, cv=5)\n",
        "clf.fit(X_stage1, y_stage1)"
      ],
      "execution_count": null,
      "outputs": [
        {
          "output_type": "execute_result",
          "data": {
            "text/plain": [
              "RidgeCV(alphas=array([1.e-03, 5.e-03, 1.e-02, 5.e-02, 1.e-01, 5.e-01, 1.e+00, 5.e+00,\n",
              "       1.e+01, 5.e+01, 1.e+02]),\n",
              "        cv=5, fit_intercept=True, gcv_mode=None, normalize=False, scoring=None,\n",
              "        store_cv_values=False)"
            ]
          },
          "metadata": {
            "tags": []
          },
          "execution_count": 23
        }
      ]
    },
    {
      "cell_type": "code",
      "metadata": {
        "id": "UfTPdtrurs7p",
        "colab": {
          "base_uri": "https://localhost:8080/"
        },
        "outputId": "4d2af622-a5ab-450b-bc8f-7e06007e3f73"
      },
      "source": [
        "pred = clf.predict(X_stage1)\n",
        "output = clf.predict(stage1[['pred_888feat_lgb1', 'pred_888feat_lgb2', 'pred_888feat_lgb3', 'pred_888feat_lgb4', 'pred_888feat_lgb5', 'pred_888feat_lgb6', 'pred_888feat_cat1', 'pred_888feat_cat2', 'pred_888feat_cat3']][t:].values.reshape(-1,9))\n",
        "\n",
        "rmse = np.sqrt(mean_squared_error(y_stage1, pred))\n",
        "print(rmse)"
      ],
      "execution_count": null,
      "outputs": [
        {
          "output_type": "stream",
          "text": [
            "0.48273134622685787\n"
          ],
          "name": "stdout"
        }
      ]
    },
    {
      "cell_type": "code",
      "metadata": {
        "id": "l6ykHgvFidcT"
      },
      "source": [
        "df_test = pd.read_json('input/test_data.json', lines=True)\n",
        "output = np.expm1(output)\n",
        "df_sub = pd.DataFrame()\n",
        "df_sub[\"id\"] = df_test[\"id\"]\n",
        "df_sub[\"cites\"] = output\n",
        "df_sub.to_csv(OUTDIR / 'submission.csv', index=False)"
      ],
      "execution_count": null,
      "outputs": []
    }
  ]
}