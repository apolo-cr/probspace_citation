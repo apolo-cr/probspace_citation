{
  "nbformat": 4,
  "nbformat_minor": 0,
  "metadata": {
    "colab": {
      "name": "non_text_features.ipynb",
      "provenance": [],
      "collapsed_sections": []
    },
    "kernelspec": {
      "name": "python3",
      "display_name": "Python 3"
    }
  },
  "cells": [
    {
      "cell_type": "markdown",
      "metadata": {
        "id": "vVb_jpGIK3FN"
      },
      "source": [
        "自然言語処理以外の特徴量作成用notebook"
      ]
    },
    {
      "cell_type": "markdown",
      "metadata": {
        "id": "XgIt4EbmK_gY"
      },
      "source": [
        "# Libraries"
      ]
    },
    {
      "cell_type": "code",
      "metadata": {
        "id": "2Szq7BqELWKA"
      },
      "source": [
        "import warnings\n",
        "warnings.filterwarnings('ignore')\n",
        "\n",
        "import random\n",
        "import pandas as pd\n",
        "import os\n",
        "import time\n",
        "import numpy as np\n",
        "from sklearn.model_selection import StratifiedKFold\n",
        "import itertools\n",
        "from sklearn.metrics import mean_squared_error\n",
        "import typing as tp\n",
        "from pathlib import Path\n",
        "from contextlib import contextmanager\n",
        "from sklearn.model_selection import KFold\n",
        "import time\n",
        "from matplotlib import pyplot as plt\n",
        "import seaborn as sns\n",
        "import datetime\n",
        "import gc\n",
        "import re\n",
        "from pandas.core.common import flatten\n",
        "import collections\n",
        "from collections import Counter\n",
        "import gensim\n",
        "from bs4 import BeautifulSoup\n",
        "from gensim.models import word2vec, KeyedVectors\n",
        "from tqdm import tqdm\n",
        "\n",
        "tqdm.pandas()"
      ],
      "execution_count": null,
      "outputs": []
    },
    {
      "cell_type": "markdown",
      "metadata": {
        "id": "ncZmRHg7LDWr"
      },
      "source": [
        "# Utils"
      ]
    },
    {
      "cell_type": "code",
      "metadata": {
        "id": "cUTjENAZKLya"
      },
      "source": [
        "@contextmanager\n",
        "def timer(name: str):\n",
        "    t0 = time.time()\n",
        "    print(f\"[{name}] start\")\n",
        "    yield\n",
        "    msg = f\"[{name}] done in {time.time() - t0:.0f} s\"\n",
        "    print(msg)\n",
        "    \n",
        "    \n",
        "def set_seed(seed=42):\n",
        "    random.seed(seed)\n",
        "    os.environ[\"PYTHONHASHSEED\"] = str(seed)\n",
        "    np.random.seed(seed)\n",
        "    \n",
        "    \n",
        "set_seed(42)"
      ],
      "execution_count": null,
      "outputs": []
    },
    {
      "cell_type": "markdown",
      "metadata": {
        "id": "uRUOTZeBLIkf"
      },
      "source": [
        "# Data Loading"
      ]
    },
    {
      "cell_type": "code",
      "metadata": {
        "colab": {
          "base_uri": "https://localhost:8080/"
        },
        "id": "CS_qxP4bkShK",
        "outputId": "ec5beff5-720a-4b86-d5c4-179ddb254701"
      },
      "source": [
        "from google.colab import drive\n",
        "drive.mount('/content/drive')\n",
        "%cd \"drive/My Drive/probspace_citations\""
      ],
      "execution_count": null,
      "outputs": [
        {
          "output_type": "stream",
          "text": [
            "Mounted at /content/drive\n",
            "/content/drive/My Drive/probspace_citations\n"
          ],
          "name": "stdout"
        }
      ]
    },
    {
      "cell_type": "code",
      "metadata": {
        "id": "3yUQTaLqooab"
      },
      "source": [
        "DATADIR = Path('input')\n",
        "OUTDIR = Path('features')"
      ],
      "execution_count": null,
      "outputs": []
    },
    {
      "cell_type": "markdown",
      "metadata": {
        "id": "cLEtYBXGI3GI"
      },
      "source": [
        "データは、citesのあるtrainとtestにcites_known = 1, その他にはcites_known = 0としてpickle化してあるものをダウンロード"
      ]
    },
    {
      "cell_type": "code",
      "metadata": {
        "colab": {
          "base_uri": "https://localhost:8080/"
        },
        "id": "UZfS1LWBp-6w",
        "outputId": "1a8940f5-ea56-4bcb-ab53-b0f9925594b3"
      },
      "source": [
        "with timer(\"Load data\"):\n",
        "    ALL_df = pd.read_pickle(DATADIR / 'ALL_df.pkl') # 全てのtrain/testを結合したデータ"
      ],
      "execution_count": null,
      "outputs": [
        {
          "output_type": "stream",
          "text": [
            "[Load data] start\n",
            "[Load data] done in 26 s\n"
          ],
          "name": "stdout"
        }
      ]
    },
    {
      "cell_type": "code",
      "metadata": {
        "colab": {
          "base_uri": "https://localhost:8080/",
          "height": 417
        },
        "id": "26U1FbUyJHwL",
        "outputId": "10b15525-2202-41b6-fcea-673e5999ae8e"
      },
      "source": [
        "ALL_df.head(3)"
      ],
      "execution_count": null,
      "outputs": [
        {
          "output_type": "execute_result",
          "data": {
            "text/html": [
              "<div>\n",
              "<style scoped>\n",
              "    .dataframe tbody tr th:only-of-type {\n",
              "        vertical-align: middle;\n",
              "    }\n",
              "\n",
              "    .dataframe tbody tr th {\n",
              "        vertical-align: top;\n",
              "    }\n",
              "\n",
              "    .dataframe thead th {\n",
              "        text-align: right;\n",
              "    }\n",
              "</style>\n",
              "<table border=\"1\" class=\"dataframe\">\n",
              "  <thead>\n",
              "    <tr style=\"text-align: right;\">\n",
              "      <th></th>\n",
              "      <th>id</th>\n",
              "      <th>submitter</th>\n",
              "      <th>authors</th>\n",
              "      <th>title</th>\n",
              "      <th>comments</th>\n",
              "      <th>journal-ref</th>\n",
              "      <th>doi</th>\n",
              "      <th>report-no</th>\n",
              "      <th>categories</th>\n",
              "      <th>license</th>\n",
              "      <th>abstract</th>\n",
              "      <th>versions</th>\n",
              "      <th>update_date</th>\n",
              "      <th>authors_parsed</th>\n",
              "      <th>doi_cites</th>\n",
              "      <th>cites</th>\n",
              "      <th>cites_known</th>\n",
              "    </tr>\n",
              "  </thead>\n",
              "  <tbody>\n",
              "    <tr>\n",
              "      <th>0</th>\n",
              "      <td>hep-ph/9902295</td>\n",
              "      <td>Michael Kraemer</td>\n",
              "      <td>Mark E. Hayes (University College London) and ...</td>\n",
              "      <td>Heavy-Flavour Production at HERA</td>\n",
              "      <td>LaTeX, 21 pages, 13 Postscript figures. Summar...</td>\n",
              "      <td>J.Phys.G25:1477-1493,1999</td>\n",
              "      <td>10.1088/0954-3899/25/7/332</td>\n",
              "      <td>CERN-TH/99-30, UCL/HEP 99-03</td>\n",
              "      <td>hep-ph hep-ex</td>\n",
              "      <td>None</td>\n",
              "      <td>We review the theoretical and experimental s...</td>\n",
              "      <td>[{'version': 'v1', 'created': 'Wed, 10 Feb 199...</td>\n",
              "      <td>2008-11-26</td>\n",
              "      <td>[[Hayes, Mark E., , University College London]...</td>\n",
              "      <td>1</td>\n",
              "      <td>NaN</td>\n",
              "      <td>0</td>\n",
              "    </tr>\n",
              "    <tr>\n",
              "      <th>1</th>\n",
              "      <td>1403.7138</td>\n",
              "      <td>Aigen Li</td>\n",
              "      <td>Qi Li, S.L. Liang, Aigen Li (University of Mis...</td>\n",
              "      <td>Spectropolarimetric Constraints on the Nature ...</td>\n",
              "      <td>5 pages, 2 figures; accepted for publication i...</td>\n",
              "      <td>None</td>\n",
              "      <td>10.1093/mnrasl/slu021</td>\n",
              "      <td>None</td>\n",
              "      <td>astro-ph.GA</td>\n",
              "      <td>http://arxiv.org/licenses/nonexclusive-distrib...</td>\n",
              "      <td>While it is well recognized that interstella...</td>\n",
              "      <td>[{'version': 'v1', 'created': 'Thu, 27 Mar 201...</td>\n",
              "      <td>2015-06-19</td>\n",
              "      <td>[[Li, Qi, , University of Missouri], [Liang, S...</td>\n",
              "      <td>8</td>\n",
              "      <td>7.0</td>\n",
              "      <td>1</td>\n",
              "    </tr>\n",
              "    <tr>\n",
              "      <th>2</th>\n",
              "      <td>1405.5857</td>\n",
              "      <td>Michael Mortonson</td>\n",
              "      <td>Michael J. Mortonson, Uro\\v{s} Seljak</td>\n",
              "      <td>A joint analysis of Planck and BICEP2 B modes ...</td>\n",
              "      <td>13 pages, 4 figures; submitted to JCAP; refere...</td>\n",
              "      <td>JCAP10(2014)035</td>\n",
              "      <td>10.1088/1475-7516/2014/10/035</td>\n",
              "      <td>None</td>\n",
              "      <td>astro-ph.CO gr-qc hep-ph hep-th</td>\n",
              "      <td>http://arxiv.org/licenses/nonexclusive-distrib...</td>\n",
              "      <td>We analyze BICEP2 and Planck data using a mo...</td>\n",
              "      <td>[{'version': 'v1', 'created': 'Thu, 22 May 201...</td>\n",
              "      <td>2014-10-17</td>\n",
              "      <td>[[Mortonson, Michael J., ], [Seljak, Uroš, ]]</td>\n",
              "      <td>122</td>\n",
              "      <td>188.0</td>\n",
              "      <td>1</td>\n",
              "    </tr>\n",
              "  </tbody>\n",
              "</table>\n",
              "</div>"
            ],
            "text/plain": [
              "               id          submitter  ...  cites cites_known\n",
              "0  hep-ph/9902295    Michael Kraemer  ...    NaN           0\n",
              "1       1403.7138           Aigen Li  ...    7.0           1\n",
              "2       1405.5857  Michael Mortonson  ...  188.0           1\n",
              "\n",
              "[3 rows x 17 columns]"
            ]
          },
          "metadata": {
            "tags": []
          },
          "execution_count": 6
        }
      ]
    },
    {
      "cell_type": "code",
      "metadata": {
        "colab": {
          "base_uri": "https://localhost:8080/"
        },
        "id": "M-rhqs7sqATw",
        "outputId": "2f616f46-e871-40f0-d3f2-01b283eb719e"
      },
      "source": [
        "with timer(\"Load data\"):\n",
        "    df = pd.read_pickle(DATADIR / 'df.pkl') # citesの値が与えられたtrainとtestを結合したデータ"
      ],
      "execution_count": null,
      "outputs": [
        {
          "output_type": "stream",
          "text": [
            "[Load data] start\n",
            "[Load data] done in 4 s\n"
          ],
          "name": "stdout"
        }
      ]
    },
    {
      "cell_type": "code",
      "metadata": {
        "colab": {
          "base_uri": "https://localhost:8080/",
          "height": 417
        },
        "id": "8HE8sIWXJLSe",
        "outputId": "0c05d78f-5bfd-4899-ed12-c8548e6faa2a"
      },
      "source": [
        "df.head(3)"
      ],
      "execution_count": null,
      "outputs": [
        {
          "output_type": "execute_result",
          "data": {
            "text/html": [
              "<div>\n",
              "<style scoped>\n",
              "    .dataframe tbody tr th:only-of-type {\n",
              "        vertical-align: middle;\n",
              "    }\n",
              "\n",
              "    .dataframe tbody tr th {\n",
              "        vertical-align: top;\n",
              "    }\n",
              "\n",
              "    .dataframe thead th {\n",
              "        text-align: right;\n",
              "    }\n",
              "</style>\n",
              "<table border=\"1\" class=\"dataframe\">\n",
              "  <thead>\n",
              "    <tr style=\"text-align: right;\">\n",
              "      <th></th>\n",
              "      <th>id</th>\n",
              "      <th>submitter</th>\n",
              "      <th>authors</th>\n",
              "      <th>title</th>\n",
              "      <th>comments</th>\n",
              "      <th>journal-ref</th>\n",
              "      <th>doi</th>\n",
              "      <th>report-no</th>\n",
              "      <th>categories</th>\n",
              "      <th>license</th>\n",
              "      <th>abstract</th>\n",
              "      <th>versions</th>\n",
              "      <th>update_date</th>\n",
              "      <th>authors_parsed</th>\n",
              "      <th>doi_cites</th>\n",
              "      <th>cites</th>\n",
              "      <th>cites_known</th>\n",
              "    </tr>\n",
              "  </thead>\n",
              "  <tbody>\n",
              "    <tr>\n",
              "      <th>0</th>\n",
              "      <td>1403.7138</td>\n",
              "      <td>Aigen Li</td>\n",
              "      <td>Qi Li, S.L. Liang, Aigen Li (University of Mis...</td>\n",
              "      <td>Spectropolarimetric Constraints on the Nature ...</td>\n",
              "      <td>5 pages, 2 figures; accepted for publication i...</td>\n",
              "      <td>None</td>\n",
              "      <td>10.1093/mnrasl/slu021</td>\n",
              "      <td>None</td>\n",
              "      <td>astro-ph.GA</td>\n",
              "      <td>http://arxiv.org/licenses/nonexclusive-distrib...</td>\n",
              "      <td>While it is well recognized that interstella...</td>\n",
              "      <td>[{'version': 'v1', 'created': 'Thu, 27 Mar 201...</td>\n",
              "      <td>2015-06-19</td>\n",
              "      <td>[[Li, Qi, , University of Missouri], [Liang, S...</td>\n",
              "      <td>8</td>\n",
              "      <td>7.0</td>\n",
              "      <td>1</td>\n",
              "    </tr>\n",
              "    <tr>\n",
              "      <th>1</th>\n",
              "      <td>1405.5857</td>\n",
              "      <td>Michael Mortonson</td>\n",
              "      <td>Michael J. Mortonson, Uro\\v{s} Seljak</td>\n",
              "      <td>A joint analysis of Planck and BICEP2 B modes ...</td>\n",
              "      <td>13 pages, 4 figures; submitted to JCAP; refere...</td>\n",
              "      <td>JCAP10(2014)035</td>\n",
              "      <td>10.1088/1475-7516/2014/10/035</td>\n",
              "      <td>None</td>\n",
              "      <td>astro-ph.CO gr-qc hep-ph hep-th</td>\n",
              "      <td>http://arxiv.org/licenses/nonexclusive-distrib...</td>\n",
              "      <td>We analyze BICEP2 and Planck data using a mo...</td>\n",
              "      <td>[{'version': 'v1', 'created': 'Thu, 22 May 201...</td>\n",
              "      <td>2014-10-17</td>\n",
              "      <td>[[Mortonson, Michael J., ], [Seljak, Uroš, ]]</td>\n",
              "      <td>122</td>\n",
              "      <td>188.0</td>\n",
              "      <td>1</td>\n",
              "    </tr>\n",
              "    <tr>\n",
              "      <th>2</th>\n",
              "      <td>1807.01034</td>\n",
              "      <td>Evangelos Thomas Karamatskos</td>\n",
              "      <td>Evangelos T. Karamatskos, Sebastian Raabe, Ter...</td>\n",
              "      <td>Molecular movie of ultrafast coherent rotation...</td>\n",
              "      <td>9 Figures</td>\n",
              "      <td>Nat Commun 10, 3364 (2019)</td>\n",
              "      <td>10.1038/s41467-019-11122-y</td>\n",
              "      <td>None</td>\n",
              "      <td>physics.chem-ph physics.atom-ph quant-ph</td>\n",
              "      <td>http://arxiv.org/licenses/nonexclusive-distrib...</td>\n",
              "      <td>Recording molecular movies on ultrafast time...</td>\n",
              "      <td>[{'version': 'v1', 'created': 'Tue, 3 Jul 2018...</td>\n",
              "      <td>2020-05-19</td>\n",
              "      <td>[[Karamatskos, Evangelos T., ], [Raabe, Sebast...</td>\n",
              "      <td>6</td>\n",
              "      <td>8.0</td>\n",
              "      <td>1</td>\n",
              "    </tr>\n",
              "  </tbody>\n",
              "</table>\n",
              "</div>"
            ],
            "text/plain": [
              "           id                     submitter  ...  cites cites_known\n",
              "0   1403.7138                      Aigen Li  ...    7.0           1\n",
              "1   1405.5857             Michael Mortonson  ...  188.0           1\n",
              "2  1807.01034  Evangelos Thomas Karamatskos  ...    8.0           1\n",
              "\n",
              "[3 rows x 17 columns]"
            ]
          },
          "metadata": {
            "tags": []
          },
          "execution_count": 8
        }
      ]
    },
    {
      "cell_type": "markdown",
      "metadata": {
        "id": "kMj6DDTJnpGX"
      },
      "source": [
        "# Basic features"
      ]
    },
    {
      "cell_type": "markdown",
      "metadata": {
        "id": "P9JfoUftEsIV"
      },
      "source": [
        "## Pseudo category"
      ]
    },
    {
      "cell_type": "code",
      "metadata": {
        "colab": {
          "base_uri": "https://localhost:8080/"
        },
        "id": "QAQR5WJ2nstm",
        "outputId": "32651098-a71a-46a3-877c-56fbd8a23e75"
      },
      "source": [
        "def make_id_feat(x):\n",
        "    try: return re.search('(.*)/(.*)', x).group(1)\n",
        "    except: return x[:4]\n",
        "def make_doi_feat(x):\n",
        "    try: return float(x.split('/')[0])\n",
        "    except: return np.nan\n",
        "def make_doi_feat_2(x):\n",
        "    try: return float(x.split('/')[1])\n",
        "    except: return np.nan\n",
        "\n",
        "with timer(\"pseudo category\"):\n",
        "    ALL_df['id_feat'] = ALL_df['id'].apply(make_id_feat)\n",
        "    ALL_df['doi_feat'] = ALL_df['doi'].apply(make_doi_feat)\n",
        "    ALL_df['doi_feat_2'] = ALL_df['doi'].apply(make_doi_feat_2)\n",
        "    df['id_feat'] = df['id'].apply(make_id_feat)\n",
        "    df['doi_feat'] = df['doi'].apply(make_doi_feat)\n",
        "    df['doi_feat_2'] = df['doi'].apply(make_doi_feat_2)"
      ],
      "execution_count": null,
      "outputs": [
        {
          "output_type": "stream",
          "text": [
            "[pseudo category] start\n",
            "[pseudo category] done in 5 s\n"
          ],
          "name": "stdout"
        }
      ]
    },
    {
      "cell_type": "markdown",
      "metadata": {
        "id": "UwjZvw3TEvxj"
      },
      "source": [
        "## Time features"
      ]
    },
    {
      "cell_type": "code",
      "metadata": {
        "colab": {
          "base_uri": "https://localhost:8080/"
        },
        "id": "srjjxIngEz0w",
        "outputId": "6eebfb64-523d-4fe3-8b61-a72404c9387c"
      },
      "source": [
        "def time_preprocess(input_df):\n",
        "    output_df = input_df.copy()\n",
        "\n",
        "    output_df[\"first_created_unixtime\"] = pd.to_datetime(input_df.versions.apply(lambda p: p[0][\"created\"])).astype(int) / 1e9\n",
        "    output_df[\"last_created_unixtime\"] = pd.to_datetime(input_df.versions.apply(lambda p: p[-1][\"created\"])).astype(int) / 1e9\n",
        "    output_df[\"diff_created_unixtime\"] = output_df[\"last_created_unixtime\"] - output_df[\"first_created_unixtime\"]\n",
        "    output_df[\"num_created\"] = input_df.versions.apply(lambda p: len(p))\n",
        "    output_df[\"from_first_created\"] = (pd.Timestamp(year=2021,month=1,day=1,hour=0,minute=0,second=0,tz='UTC') - pd.to_datetime(input_df.versions.apply(lambda p: p[0][\"created\"]))).astype(int) / 1e9\n",
        "    output_df[\"from_last_created\"] = (pd.Timestamp(year=2021,month=1,day=1,hour=0,minute=0,second=0,tz='UTC') - pd.to_datetime(input_df.versions.apply(lambda p: p[-1][\"created\"]))).astype(int) / 1e9\n",
        "    output_df[\"from_update\"] = (pd.Timestamp(year=2021,month=1,day=1) - pd.to_datetime(df.update_date)).astype(int) / 1e9\n",
        "    return output_df\n",
        "\n",
        "with timer(\"time features\"):\n",
        "    ALL_df = time_preprocess(ALL_df)\n",
        "    df = time_preprocess(df)"
      ],
      "execution_count": null,
      "outputs": [
        {
          "output_type": "stream",
          "text": [
            "[time features] start\n",
            "[time features] done in 673 s\n"
          ],
          "name": "stdout"
        }
      ]
    },
    {
      "cell_type": "markdown",
      "metadata": {
        "id": "R9jybGvEic3h"
      },
      "source": [
        "## Length features"
      ]
    },
    {
      "cell_type": "code",
      "metadata": {
        "colab": {
          "base_uri": "https://localhost:8080/"
        },
        "id": "q2Nzxqraif6f",
        "outputId": "19ec94b4-c8ad-488a-f405-46dc5f197f16"
      },
      "source": [
        "with timer('letter number'):\n",
        "    df['title_letter_number'] = df['title'].map(lambda x: len(x))\n",
        "    df['abstract_letter_number'] = df['abstract'].map(lambda x: len(x))\n",
        "    \n",
        "with timer('word number'):\n",
        "    df['title_word_number'] = df['title'].map(lambda x: len(x.split(' ')))\n",
        "    df['abstract_letter_number'] = df['abstract'].map(lambda x: len(x.split(' ')))\n",
        "    df['categories_number'] = df['categories'].map(lambda x: len(x.split(' ')))"
      ],
      "execution_count": null,
      "outputs": [
        {
          "output_type": "stream",
          "text": [
            "[letter number] start\n",
            "[letter number] done in 0 s\n",
            "[word number] start\n",
            "[word number] done in 1 s\n"
          ],
          "name": "stdout"
        }
      ]
    },
    {
      "cell_type": "markdown",
      "metadata": {
        "id": "0VdRosxHjtwd"
      },
      "source": [
        "## Regex features"
      ]
    },
    {
      "cell_type": "code",
      "metadata": {
        "colab": {
          "base_uri": "https://localhost:8080/"
        },
        "id": "e-mWo0Syjwsr",
        "outputId": "fea4bfa0-108a-4fe6-a678-0a4545a7df3d"
      },
      "source": [
        "with timer('regex features'):\n",
        "    df['comments_pages'] = df['comments'].fillna(' ').progress_apply(lambda x: re.findall(r'(\\d+)[^\\d,]*pages', x)[0] if re.search(r'(\\d+)[^\\d,]*pages', x) else 0)\n",
        "    df['comments_figures'] = df['comments'].fillna(' ').progress_apply(lambda x: re.findall(r'(\\d+)[^\\d,]*figures', x)[0] if re.search(r'(\\d+)[^\\d,]*figures', x) else 0)"
      ],
      "execution_count": null,
      "outputs": [
        {
          "output_type": "stream",
          "text": [
            " 21%|██        | 15551/74201 [00:00<00:00, 155506.44it/s]"
          ],
          "name": "stderr"
        },
        {
          "output_type": "stream",
          "text": [
            "[regex features] start\n"
          ],
          "name": "stdout"
        },
        {
          "output_type": "stream",
          "text": [
            "100%|██████████| 74201/74201 [00:00<00:00, 164818.88it/s]\n",
            "100%|██████████| 74201/74201 [00:00<00:00, 159460.23it/s]"
          ],
          "name": "stderr"
        },
        {
          "output_type": "stream",
          "text": [
            "[regex features] done in 1 s\n"
          ],
          "name": "stdout"
        },
        {
          "output_type": "stream",
          "text": [
            "\n"
          ],
          "name": "stderr"
        }
      ]
    },
    {
      "cell_type": "code",
      "metadata": {
        "id": "P9Zj3hStuayd"
      },
      "source": [
        "df.to_csv(OUTDIR / 'base_df.csv', index=False)"
      ],
      "execution_count": null,
      "outputs": []
    },
    {
      "cell_type": "markdown",
      "metadata": {
        "id": "R94AEJHbu6m2"
      },
      "source": [
        "# Multi-word categories features"
      ]
    },
    {
      "cell_type": "code",
      "metadata": {
        "id": "S2GLIhsFweKM"
      },
      "source": [
        "df['categories_space_list'] = df['categories'].apply(lambda x: list(x.split()))\n",
        "df['categories_comma_list'] = df['categories'].apply(lambda x: list(re.split('[. ]', x)))\n",
        "df.authors_parsed = df.authors_parsed.apply(lambda x: [[y[0]+' '+y[1], y[-1]] for y in x])\n",
        "df['authors_list'] = df.authors_parsed.apply(lambda x: [i for i in list(itertools.chain.from_iterable(x)) if i!=''])"
      ],
      "execution_count": null,
      "outputs": []
    },
    {
      "cell_type": "code",
      "metadata": {
        "id": "LuXjgVrGyZWK"
      },
      "source": [
        "ALL_df['categories_space_list'] = ALL_df['categories'].apply(lambda x: list(x.split()))\n",
        "ALL_df['categories_comma_list'] = ALL_df['categories'].apply(lambda x: list(re.split('[. ]', x)))\n",
        "ALL_df.authors_parsed = ALL_df.authors_parsed.apply(lambda x: [[y[0]+' '+y[1], y[-1]] for y in x])\n",
        "ALL_df['authors_list'] = ALL_df.authors_parsed.apply(lambda x: [i for i in list(itertools.chain.from_iterable(x)) if i!=''])"
      ],
      "execution_count": null,
      "outputs": []
    },
    {
      "cell_type": "code",
      "metadata": {
        "id": "zz4XrIbeyNSY"
      },
      "source": [
        "def multiple_word_categories_features(input_df, target_cols):\n",
        "    output_df = input_df[['id']]\n",
        "\n",
        "    for target_col in target_cols:\n",
        "\n",
        "        if input_df.cites_known.min() == 1:\n",
        "            new_cols = [f'Multiple_{target_col}_count', f'Multiple_{target_col}_cumave', f'Multiple_{target_col}_anticipator']\n",
        "        else:\n",
        "            new_cols = [f'ALL_Multiple_{target_col}_count', f'ALL_Multiple_{target_col}_cumave', f'Multiple_{target_col}_anticipator']\n",
        "\n",
        "        duplicates_containing_list = list(itertools.chain.from_iterable(list(input_df[target_col])))\n",
        "        count_dic = collections.Counter(duplicates_containing_list)\n",
        "\n",
        "        def categories_count_sum(l):\n",
        "            sum = 0\n",
        "            for i in l: \n",
        "                sum += count_dic[i]\n",
        "            return sum\n",
        "\n",
        "        keys = list(set(duplicates_containing_list))\n",
        "        values = [0]*len(keys)\n",
        "        doi_cites_cumsum_dic = dict(zip(keys, values))\n",
        "        doi_cites_cumcount_dic = dict(zip(keys, values))\n",
        "\n",
        "        keys = list(input_df.id)\n",
        "        values = [0]*len(keys)\n",
        "        id_cumave_dic = dict(zip(keys, values))\n",
        "        id_anticipator_dic = dict(zip(keys, values))\n",
        "\n",
        "\n",
        "        for target_list, doi_cites, id in tqdm(zip(input_df.sort_values('first_created_unixtime')[target_col], input_df.sort_values('first_created_unixtime')['doi_cites'], input_df.sort_values('first_created_unixtime')['id'])):\n",
        "            cumave = 0\n",
        "            anticipator = 0\n",
        "\n",
        "            for i in target_list:\n",
        "                doi_cites_cumsum_dic[i] += doi_cites\n",
        "                doi_cites_cumcount_dic[i] += 1\n",
        "                cumave += doi_cites_cumsum_dic[i]/doi_cites_cumcount_dic[i]\n",
        "                anticipator += count_dic[i]/doi_cites_cumcount_dic[i]\n",
        "            \n",
        "            id_cumave_dic[id] = cumave\n",
        "            id_anticipator_dic[id] = anticipator\n",
        "\n",
        "        new_df = pd.DataFrame()\n",
        "        new_df[new_cols[0]] = input_df[target_col].apply(categories_count_sum)\n",
        "        new_df[new_cols[1]] = input_df['id'].map(id_cumave_dic)\n",
        "        new_df[new_cols[2]] = input_df['id'].map(id_anticipator_dic)\n",
        "        output_df = pd.concat([output_df, new_df], axis=1)\n",
        "\n",
        "    return output_df"
      ],
      "execution_count": null,
      "outputs": []
    },
    {
      "cell_type": "code",
      "metadata": {
        "colab": {
          "base_uri": "https://localhost:8080/"
        },
        "id": "6Q_iSpEt0HDr",
        "outputId": "24990a83-2a26-4ec0-e6f8-7dc770ba74f4"
      },
      "source": [
        "with timer('Multiple word categories features'):\n",
        "    ALL_multiple_word_categories_features = multiple_word_categories_features(ALL_df, ['categories_space_list', 'categories_comma_list', 'authors_list'])\n",
        "    multiple_word_categories_features = multiple_word_categories_features(df, ['categories_space_list', 'categories_comma_list', 'authors_list'])"
      ],
      "execution_count": null,
      "outputs": [
        {
          "output_type": "stream",
          "text": [
            "[Multiple word categories features] start\n"
          ],
          "name": "stdout"
        },
        {
          "output_type": "stream",
          "text": [
            "910608it [00:03, 244025.76it/s]\n",
            "910608it [00:04, 208855.38it/s]\n",
            "910608it [00:12, 75199.87it/s]\n",
            "74201it [00:00, 285475.64it/s]\n",
            "74201it [00:00, 242492.60it/s]\n",
            "74201it [00:00, 92140.98it/s]\n"
          ],
          "name": "stderr"
        },
        {
          "output_type": "stream",
          "text": [
            "[Multiple word categories features] done in 66 s\n"
          ],
          "name": "stdout"
        }
      ]
    },
    {
      "cell_type": "code",
      "metadata": {
        "id": "7Q3rXQfVV4RB"
      },
      "source": [
        "multiple_word_categories_features = pd.merge(multiple_word_categories_features, ALL_multiple_word_categories_features, on='id', how='left')"
      ],
      "execution_count": null,
      "outputs": []
    },
    {
      "cell_type": "code",
      "metadata": {
        "id": "Jqq8bnZkWVOT"
      },
      "source": [
        "multiple_word_categories_features.to_csv(OUTDIR / 'multiple_word_categories_features.csv', index=False)"
      ],
      "execution_count": null,
      "outputs": []
    },
    {
      "cell_type": "markdown",
      "metadata": {
        "id": "X0F55SnmLa5J"
      },
      "source": [
        "# Groupby features"
      ]
    },
    {
      "cell_type": "code",
      "metadata": {
        "id": "DqxvmFI0z7R6"
      },
      "source": [
        "GROUPBY_COLS = ['submitter', 'categories', 'license', 'id_feat', 'doi_feat', 'doi_feat_2']"
      ],
      "execution_count": null,
      "outputs": []
    },
    {
      "cell_type": "code",
      "metadata": {
        "id": "hjFFKj001F_x"
      },
      "source": [
        "def aggregation(input_df, group_keys, group_value, agg_methods):\n",
        "    output_df = input_df[['id']]\n",
        "    for agg_method in agg_methods:\n",
        "        for col in group_keys:\n",
        "            if callable(agg_method):\n",
        "                agg_method_name = agg_method.__name__\n",
        "            else:\n",
        "                agg_method_name = agg_method\n",
        "            if input_df.cites_known.min() == 1:\n",
        "                new_col = f\"{agg_method_name}_{group_value}_grpby_{col}\"\n",
        "            else:\n",
        "                new_col = f\"ALL_{agg_method_name}_{group_value}_grpby_{col}\"\n",
        "            new_df = (input_df[[col] + [group_value]].groupby(col)[[group_value]].transform(agg_method))\n",
        "            new_df.columns = [new_col]\n",
        "            output_df = pd.concat([output_df, new_df], axis=1)\n",
        "\n",
        "    return output_df\n",
        "\n",
        "def aggregation_CumFeat(input_df, group_keys, group_value, ascendings):\n",
        "    output_df = input_df[['id']]\n",
        "    for col in group_keys:\n",
        "        for ascending in ascendings:\n",
        "            if input_df.cites_known.min() == 1:\n",
        "                new_col = f\"CumFeat_{group_value}_grpby_{col}_{ascending}\"\n",
        "            else:\n",
        "                new_col = f\"ALL_CumFeat_{group_value}_grpby_{col}_{ascending}\"\n",
        "            input_df['lag'] = input_df.sort_values('first_created_unixtime', ascending=ascending).groupby([col])[[group_value]].shift(1)\n",
        "            cum = input_df[[col] + ['lag', 'first_created_unixtime']].sort_values('first_created_unixtime').groupby(col).lag.agg(['cumsum', 'cumcount'])\n",
        "            new_df = pd.DataFrame(cum['cumsum'] / cum['cumcount'])\n",
        "            new_df.columns = [new_col]\n",
        "            output_df = pd.concat([output_df, new_df], axis=1)\n",
        "\n",
        "    return output_df\n",
        "\n",
        "def aggregation_Multiple_CumFeat(input_df, group_keys, group_value, ascendings):\n",
        "    output_df = input_df[['id']]\n",
        "    for (col1,col2) in list(itertools.combinations(group_keys,2)):\n",
        "        for ascending in ascendings:\n",
        "            if input_df.cites_known.min() == 1:\n",
        "                new_col = f\"CumFeat_{group_value}_grpby_{col1}_{col2}_{ascending}\"\n",
        "            else:\n",
        "                new_col = f\"ALL_CumFeat_{group_value}_grpby_{col1}_{col2}_{ascending}\"\n",
        "            input_df['lag'] = input_df.sort_values('first_created_unixtime', ascending=ascending).groupby([col1,col2])[[group_value]].shift(1)\n",
        "            cum = input_df[[col1,col2] + ['lag', 'first_created_unixtime']].sort_values('first_created_unixtime').groupby([col1,col2]).lag.agg(['cumsum', 'cumcount'])\n",
        "            new_df = pd.DataFrame(cum['cumsum'] / cum['cumcount'])\n",
        "            new_df.columns = [new_col]\n",
        "            output_df = pd.concat([output_df, new_df], axis=1)\n",
        "\n",
        "    return output_df\n",
        "\n",
        "def aggregation_FirstTimeWeighted(input_df, group_keys, group_value, ascendings):\n",
        "    output_df = input_df[['id']]\n",
        "    for col in group_keys:\n",
        "        for ascending in ascendings:\n",
        "            if input_df.cites_known.min() == 1:\n",
        "                new_col = f\"FirstTimeWeighted_{group_value}_grpby_{col}_{ascending}\"\n",
        "            else:\n",
        "                new_col = f\"ALL_FirstTimeWeighted_{group_value}_grpby_{col}_{ascending}\"\n",
        "            input_df['lag'] = input_df.sort_values('first_created_unixtime', ascending=ascending).groupby(col)[[group_value]].shift(1)\n",
        "            cum1 = input_df[[col] + ['lag', 'first_created_unixtime']].sort_values('first_created_unixtime').groupby(col).lag.agg(['cumsum'])\n",
        "            cum2 = input_df[[col] + ['from_first_created', 'first_created_unixtime']].sort_values('first_created_unixtime').groupby(col).from_first_created.agg(['cumsum'])\n",
        "            new_df = pd.DataFrame(cum1['cumsum'] / cum2['cumsum'])\n",
        "            new_df.columns = [new_col]\n",
        "            output_df = pd.concat([output_df, new_df], axis=1)\n",
        "\n",
        "    return output_df\n",
        "\n",
        "def aggregation_UpdateTimeWeighted(input_df, group_keys, group_value, ascendings):\n",
        "    output_df = input_df[['id']]\n",
        "    for col in group_keys:\n",
        "        for ascending in ascendings:\n",
        "            if input_df.cites_known.min() == 1:\n",
        "                new_col = f\"UpdateTimeWeighted_{group_value}_grpby_{col}_{ascending}\"\n",
        "            else:\n",
        "                new_col = f\"ALL_UpdateTimeWeighted_{group_value}_grpby_{col}_{ascending}\"\n",
        "            input_df['lag'] = input_df.sort_values('first_created_unixtime', ascending=ascending).groupby(col)[[group_value]].shift(1)\n",
        "            cum1 = input_df[[col] + ['lag', 'first_created_unixtime']].sort_values('first_created_unixtime').groupby(col).lag.agg(['cumsum'])\n",
        "            cum2 = input_df[[col] + ['from_update', 'first_created_unixtime']].sort_values('first_created_unixtime').groupby(col).from_update.agg(['cumsum'])\n",
        "            new_df = pd.DataFrame(cum1['cumsum'] / cum2['cumsum'])\n",
        "            new_df.columns = [new_col]\n",
        "            output_df = pd.concat([output_df, new_df], axis=1)\n",
        "\n",
        "    return output_df\n",
        "\n",
        "def aggregation_LastTimeWeighted(input_df, group_keys, group_value, ascendings):\n",
        "    output_df = input_df[['id']]\n",
        "    for col in group_keys:\n",
        "        for ascending in ascendings:\n",
        "            if input_df.cites_known.min() == 1:\n",
        "                new_col = f\"LastTimeWeighted_{group_value}_grpby_{col}_{ascending}\"\n",
        "            else:\n",
        "                new_col = f\"ALL_LastTimeWeighted_{group_value}_grpby_{col}_{ascending}\"\n",
        "            input_df['lag'] = input_df.sort_values('last_created_unixtime', ascending=ascending).groupby(col)[[group_value]].shift(1)\n",
        "            cum1 = input_df[[col] + ['lag', 'last_created_unixtime']].sort_values('last_created_unixtime').groupby(col).lag.agg(['cumsum'])\n",
        "            cum2 = input_df[[col] + ['from_last_created', 'last_created_unixtime']].sort_values('last_created_unixtime').groupby(col).from_last_created.agg(['cumsum'])\n",
        "            new_df = pd.DataFrame(cum1['cumsum'] / cum2['cumsum'])\n",
        "            new_df.columns = [new_col]\n",
        "            output_df = pd.concat([output_df, new_df], axis=1)\n",
        "\n",
        "    return output_df\n",
        "\n",
        "def aggregation_YearDiff(input_df, group_keys):\n",
        "    output_df = input_df[['id']]\n",
        "    for col in group_keys:\n",
        "        if input_df.cites_known.min() == 1:\n",
        "            new_col = f\"YearDiff_grpby_{col}\"\n",
        "        else:\n",
        "            new_col = f\"ALL_YearDiff_grpby_{col}\"\n",
        "\n",
        "        new_df = input_df[[col] + ['first_created_unixtime']].groupby(col).first_created_unixtime.transform('max') - input_df[[col] + ['first_created_unixtime']].groupby(col).first_created_unixtime.transform('min')\n",
        "        new_df.columns = [new_col]\n",
        "        output_df = pd.concat([output_df, new_df], axis=1)\n",
        "\n",
        "    return output_df"
      ],
      "execution_count": null,
      "outputs": []
    },
    {
      "cell_type": "code",
      "metadata": {
        "id": "wPG_8bM32Jfm"
      },
      "source": [
        "def get_agg_doi_cites_features(input_df):\n",
        "    group_keys = GROUPBY_COLS + ['authors', 'journal-ref', 'report-no']\n",
        "    group_value = 'doi_cites'\n",
        "    agg_methods = ['max', 'mean', 'std']\n",
        "    output_df = aggregation(input_df, \n",
        "                            group_keys=group_keys,\n",
        "                            group_value=group_value,\n",
        "                            agg_methods=agg_methods)\n",
        "    return output_df\n",
        "\n",
        "def get_agg_id_features(input_df):\n",
        "    group_keys = GROUPBY_COLS + ['authors', 'journal-ref', 'report-no', 'doi_cites']\n",
        "    group_value = 'id'\n",
        "    agg_methods = ['count']\n",
        "    output_df = aggregation(input_df, \n",
        "                            group_keys=group_keys,\n",
        "                            group_value=group_value,\n",
        "                            agg_methods=agg_methods)\n",
        "    return output_df\n",
        "\n",
        "def get_agg_CumFeat_features(input_df):\n",
        "    group_keys = GROUPBY_COLS + ['authors', 'journal-ref', 'report-no']\n",
        "    group_value = 'doi_cites'\n",
        "    ascendings = [True, False]\n",
        "    output_df = aggregation_CumFeat(input_df, \n",
        "                            group_keys=group_keys,\n",
        "                            group_value=group_value,\n",
        "                            ascendings=ascendings)\n",
        "    return output_df\n",
        "\n",
        "def get_agg_Multiple_CumFeat_features(input_df):\n",
        "    group_keys = GROUPBY_COLS\n",
        "    group_value = 'doi_cites'\n",
        "    ascendings = [True, False]\n",
        "    output_df = aggregation_Multiple_CumFeat(input_df, \n",
        "                            group_keys=group_keys,\n",
        "                            group_value=group_value,\n",
        "                            ascendings=ascendings)\n",
        "    return output_df\n",
        "\n",
        "def get_agg_FirstTimeWeighted_features(input_df):\n",
        "    group_keys = GROUPBY_COLS + ['authors', 'journal-ref', 'report-no']\n",
        "    group_value = 'doi_cites'\n",
        "    ascendings = [True, False]\n",
        "    output_df = aggregation_FirstTimeWeighted(input_df, \n",
        "                            group_keys=group_keys,\n",
        "                            group_value=group_value,\n",
        "                            ascendings=ascendings)\n",
        "    return output_df\n",
        "\n",
        "def get_agg_UpdateTimeWeighted_features(input_df):\n",
        "    group_keys = GROUPBY_COLS + ['authors', 'journal-ref', 'report-no']\n",
        "    group_value = 'doi_cites'\n",
        "    ascendings = [True, False]\n",
        "    output_df = aggregation_UpdateTimeWeighted(input_df, \n",
        "                            group_keys=group_keys,\n",
        "                            group_value=group_value,\n",
        "                            ascendings=ascendings)\n",
        "    return output_df\n",
        "\n",
        "def get_agg_LastTimeWeighted_features(input_df):\n",
        "    group_keys = GROUPBY_COLS + ['authors', 'journal-ref', 'report-no']\n",
        "    group_value = 'doi_cites'\n",
        "    ascendings = [True, False]\n",
        "    output_df = aggregation_LastTimeWeighted(input_df, \n",
        "                            group_keys=group_keys,\n",
        "                            group_value=group_value,\n",
        "                            ascendings=ascendings)\n",
        "    return output_df\n",
        "\n",
        "def get_agg_YearDiff_features(input_df):\n",
        "    group_keys = GROUPBY_COLS + ['authors', 'journal-ref', 'report-no']\n",
        "    output_df = aggregation_YearDiff(input_df, \n",
        "                            group_keys=group_keys)\n",
        "    return output_df"
      ],
      "execution_count": null,
      "outputs": []
    },
    {
      "cell_type": "code",
      "metadata": {
        "id": "MSQ7hQVvzyWg"
      },
      "source": [
        "def groupby_preprocess(input_df):\n",
        "\n",
        "    process_blocks = [\n",
        "        get_agg_doi_cites_features,\n",
        "        get_agg_id_features,\n",
        "        get_agg_CumFeat_features,\n",
        "        get_agg_Multiple_CumFeat_features,\n",
        "        get_agg_FirstTimeWeighted_features,\n",
        "        get_agg_UpdateTimeWeighted_features,\n",
        "        get_agg_LastTimeWeighted_features,\n",
        "        get_agg_YearDiff_features,\n",
        "    ]\n",
        "\n",
        "    output_df = input_df[['id']]\n",
        "    for func in tqdm(process_blocks):\n",
        "        _df = func(input_df)\n",
        "        output_df = pd.merge(output_df, _df, how='left', on='id')\n",
        "\n",
        "    return output_df"
      ],
      "execution_count": null,
      "outputs": []
    },
    {
      "cell_type": "code",
      "metadata": {
        "colab": {
          "base_uri": "https://localhost:8080/"
        },
        "id": "E5Q4m-_MzyX_",
        "outputId": "2a0e7e07-5c4a-4dc2-8705-407a9448565b"
      },
      "source": [
        "with timer(\"ALL_df groupby features\"):\n",
        "    ALL_df_groupby_feat = groupby_preprocess(ALL_df)"
      ],
      "execution_count": null,
      "outputs": [
        {
          "output_type": "stream",
          "text": [
            "\r  0%|          | 0/8 [00:00<?, ?it/s]"
          ],
          "name": "stderr"
        },
        {
          "output_type": "stream",
          "text": [
            "[ALL_df groupby features] start\n"
          ],
          "name": "stdout"
        },
        {
          "output_type": "stream",
          "text": [
            "100%|██████████| 8/8 [09:47<00:00, 73.43s/it]"
          ],
          "name": "stderr"
        },
        {
          "output_type": "stream",
          "text": [
            "[ALL_df groupby features] done in 587 s\n"
          ],
          "name": "stdout"
        },
        {
          "output_type": "stream",
          "text": [
            "\n"
          ],
          "name": "stderr"
        }
      ]
    },
    {
      "cell_type": "code",
      "metadata": {
        "id": "az24MehjXlry"
      },
      "source": [
        "groupby_feat = pd.merge(df[['id']], ALL_df_groupby_feat, on='id', how='left')"
      ],
      "execution_count": null,
      "outputs": []
    },
    {
      "cell_type": "code",
      "metadata": {
        "colab": {
          "base_uri": "https://localhost:8080/"
        },
        "id": "WQVwvSqnr3rE",
        "outputId": "a40f6cd8-f3ec-4f75-99c1-1a2db4c4c0d2"
      },
      "source": [
        "with timer(\"df groupby features\"):\n",
        "    df_groupby_feat = groupby_preprocess(df)"
      ],
      "execution_count": null,
      "outputs": [
        {
          "output_type": "stream",
          "text": [
            "\r  0%|          | 0/8 [00:00<?, ?it/s]"
          ],
          "name": "stderr"
        },
        {
          "output_type": "stream",
          "text": [
            "[df groupby features] start\n"
          ],
          "name": "stdout"
        },
        {
          "output_type": "stream",
          "text": [
            "100%|██████████| 8/8 [00:32<00:00,  4.12s/it]"
          ],
          "name": "stderr"
        },
        {
          "output_type": "stream",
          "text": [
            "[df groupby features] done in 33 s\n"
          ],
          "name": "stdout"
        },
        {
          "output_type": "stream",
          "text": [
            "\n"
          ],
          "name": "stderr"
        }
      ]
    },
    {
      "cell_type": "code",
      "metadata": {
        "id": "FUtIOQWUiNbK"
      },
      "source": [
        "groupby_feat = pd.merge(groupby_feat, df_groupby_feat, on='id', how='left')"
      ],
      "execution_count": null,
      "outputs": []
    },
    {
      "cell_type": "code",
      "metadata": {
        "colab": {
          "base_uri": "https://localhost:8080/",
          "height": 208
        },
        "id": "-4aW3bp-ZH6O",
        "outputId": "36818bf7-fd54-4ca9-d8a9-b20f6528770e"
      },
      "source": [
        "groupby_feat.head(3)"
      ],
      "execution_count": null,
      "outputs": [
        {
          "output_type": "execute_result",
          "data": {
            "text/html": [
              "<div>\n",
              "<style scoped>\n",
              "    .dataframe tbody tr th:only-of-type {\n",
              "        vertical-align: middle;\n",
              "    }\n",
              "\n",
              "    .dataframe tbody tr th {\n",
              "        vertical-align: top;\n",
              "    }\n",
              "\n",
              "    .dataframe thead th {\n",
              "        text-align: right;\n",
              "    }\n",
              "</style>\n",
              "<table border=\"1\" class=\"dataframe\">\n",
              "  <thead>\n",
              "    <tr style=\"text-align: right;\">\n",
              "      <th></th>\n",
              "      <th>id</th>\n",
              "      <th>ALL_max_doi_cites_grpby_submitter</th>\n",
              "      <th>ALL_max_doi_cites_grpby_categories</th>\n",
              "      <th>ALL_max_doi_cites_grpby_license</th>\n",
              "      <th>ALL_max_doi_cites_grpby_id_feat</th>\n",
              "      <th>ALL_max_doi_cites_grpby_doi_feat</th>\n",
              "      <th>ALL_max_doi_cites_grpby_doi_feat_2</th>\n",
              "      <th>ALL_max_doi_cites_grpby_authors</th>\n",
              "      <th>ALL_max_doi_cites_grpby_journal-ref</th>\n",
              "      <th>ALL_max_doi_cites_grpby_report-no</th>\n",
              "      <th>ALL_mean_doi_cites_grpby_submitter</th>\n",
              "      <th>ALL_mean_doi_cites_grpby_categories</th>\n",
              "      <th>ALL_mean_doi_cites_grpby_license</th>\n",
              "      <th>ALL_mean_doi_cites_grpby_id_feat</th>\n",
              "      <th>ALL_mean_doi_cites_grpby_doi_feat</th>\n",
              "      <th>ALL_mean_doi_cites_grpby_doi_feat_2</th>\n",
              "      <th>ALL_mean_doi_cites_grpby_authors</th>\n",
              "      <th>ALL_mean_doi_cites_grpby_journal-ref</th>\n",
              "      <th>ALL_mean_doi_cites_grpby_report-no</th>\n",
              "      <th>ALL_std_doi_cites_grpby_submitter</th>\n",
              "      <th>ALL_std_doi_cites_grpby_categories</th>\n",
              "      <th>ALL_std_doi_cites_grpby_license</th>\n",
              "      <th>ALL_std_doi_cites_grpby_id_feat</th>\n",
              "      <th>ALL_std_doi_cites_grpby_doi_feat</th>\n",
              "      <th>ALL_std_doi_cites_grpby_doi_feat_2</th>\n",
              "      <th>ALL_std_doi_cites_grpby_authors</th>\n",
              "      <th>ALL_std_doi_cites_grpby_journal-ref</th>\n",
              "      <th>ALL_std_doi_cites_grpby_report-no</th>\n",
              "      <th>ALL_count_id_grpby_submitter</th>\n",
              "      <th>ALL_count_id_grpby_categories</th>\n",
              "      <th>ALL_count_id_grpby_license</th>\n",
              "      <th>ALL_count_id_grpby_id_feat</th>\n",
              "      <th>ALL_count_id_grpby_doi_feat</th>\n",
              "      <th>ALL_count_id_grpby_doi_feat_2</th>\n",
              "      <th>ALL_count_id_grpby_authors</th>\n",
              "      <th>ALL_count_id_grpby_journal-ref</th>\n",
              "      <th>ALL_count_id_grpby_report-no</th>\n",
              "      <th>ALL_count_id_grpby_doi_cites</th>\n",
              "      <th>ALL_CumFeat_doi_cites_grpby_submitter_True</th>\n",
              "      <th>ALL_CumFeat_doi_cites_grpby_submitter_False</th>\n",
              "      <th>...</th>\n",
              "      <th>UpdateTimeWeighted_doi_cites_grpby_license_False</th>\n",
              "      <th>UpdateTimeWeighted_doi_cites_grpby_id_feat_True</th>\n",
              "      <th>UpdateTimeWeighted_doi_cites_grpby_id_feat_False</th>\n",
              "      <th>UpdateTimeWeighted_doi_cites_grpby_doi_feat_True</th>\n",
              "      <th>UpdateTimeWeighted_doi_cites_grpby_doi_feat_False</th>\n",
              "      <th>UpdateTimeWeighted_doi_cites_grpby_doi_feat_2_True</th>\n",
              "      <th>UpdateTimeWeighted_doi_cites_grpby_doi_feat_2_False</th>\n",
              "      <th>UpdateTimeWeighted_doi_cites_grpby_authors_True</th>\n",
              "      <th>UpdateTimeWeighted_doi_cites_grpby_authors_False</th>\n",
              "      <th>UpdateTimeWeighted_doi_cites_grpby_journal-ref_True</th>\n",
              "      <th>UpdateTimeWeighted_doi_cites_grpby_journal-ref_False</th>\n",
              "      <th>UpdateTimeWeighted_doi_cites_grpby_report-no_True</th>\n",
              "      <th>UpdateTimeWeighted_doi_cites_grpby_report-no_False</th>\n",
              "      <th>LastTimeWeighted_doi_cites_grpby_submitter_True</th>\n",
              "      <th>LastTimeWeighted_doi_cites_grpby_submitter_False</th>\n",
              "      <th>LastTimeWeighted_doi_cites_grpby_categories_True</th>\n",
              "      <th>LastTimeWeighted_doi_cites_grpby_categories_False</th>\n",
              "      <th>LastTimeWeighted_doi_cites_grpby_license_True</th>\n",
              "      <th>LastTimeWeighted_doi_cites_grpby_license_False</th>\n",
              "      <th>LastTimeWeighted_doi_cites_grpby_id_feat_True</th>\n",
              "      <th>LastTimeWeighted_doi_cites_grpby_id_feat_False</th>\n",
              "      <th>LastTimeWeighted_doi_cites_grpby_doi_feat_True</th>\n",
              "      <th>LastTimeWeighted_doi_cites_grpby_doi_feat_False</th>\n",
              "      <th>LastTimeWeighted_doi_cites_grpby_doi_feat_2_True</th>\n",
              "      <th>LastTimeWeighted_doi_cites_grpby_doi_feat_2_False</th>\n",
              "      <th>LastTimeWeighted_doi_cites_grpby_authors_True</th>\n",
              "      <th>LastTimeWeighted_doi_cites_grpby_authors_False</th>\n",
              "      <th>LastTimeWeighted_doi_cites_grpby_journal-ref_True</th>\n",
              "      <th>LastTimeWeighted_doi_cites_grpby_journal-ref_False</th>\n",
              "      <th>LastTimeWeighted_doi_cites_grpby_report-no_True</th>\n",
              "      <th>LastTimeWeighted_doi_cites_grpby_report-no_False</th>\n",
              "      <th>first_created_unixtime_y</th>\n",
              "      <th>first_created_unixtime_y</th>\n",
              "      <th>first_created_unixtime_y</th>\n",
              "      <th>first_created_unixtime_y</th>\n",
              "      <th>first_created_unixtime_y</th>\n",
              "      <th>first_created_unixtime_y</th>\n",
              "      <th>first_created_unixtime_y</th>\n",
              "      <th>first_created_unixtime_y</th>\n",
              "      <th>first_created_unixtime_y</th>\n",
              "    </tr>\n",
              "  </thead>\n",
              "  <tbody>\n",
              "    <tr>\n",
              "      <th>0</th>\n",
              "      <td>1403.7138</td>\n",
              "      <td>59.0</td>\n",
              "      <td>2969</td>\n",
              "      <td>8993.0</td>\n",
              "      <td>1235</td>\n",
              "      <td>3226.0</td>\n",
              "      <td>NaN</td>\n",
              "      <td>8</td>\n",
              "      <td>NaN</td>\n",
              "      <td>NaN</td>\n",
              "      <td>13.348837</td>\n",
              "      <td>18.713850</td>\n",
              "      <td>17.493107</td>\n",
              "      <td>21.941743</td>\n",
              "      <td>17.050760</td>\n",
              "      <td>NaN</td>\n",
              "      <td>8.0</td>\n",
              "      <td>NaN</td>\n",
              "      <td>NaN</td>\n",
              "      <td>12.328603</td>\n",
              "      <td>39.091491</td>\n",
              "      <td>56.426351</td>\n",
              "      <td>53.437303</td>\n",
              "      <td>40.378667</td>\n",
              "      <td>NaN</td>\n",
              "      <td>NaN</td>\n",
              "      <td>NaN</td>\n",
              "      <td>NaN</td>\n",
              "      <td>43.0</td>\n",
              "      <td>18375</td>\n",
              "      <td>599833.0</td>\n",
              "      <td>4566</td>\n",
              "      <td>29728.0</td>\n",
              "      <td>NaN</td>\n",
              "      <td>1</td>\n",
              "      <td>NaN</td>\n",
              "      <td>NaN</td>\n",
              "      <td>26409</td>\n",
              "      <td>18.916667</td>\n",
              "      <td>18.666667</td>\n",
              "      <td>...</td>\n",
              "      <td>1.233097e-07</td>\n",
              "      <td>1.236135e-07</td>\n",
              "      <td>1.240167e-07</td>\n",
              "      <td>1.733075e-07</td>\n",
              "      <td>1.732415e-07</td>\n",
              "      <td>NaN</td>\n",
              "      <td>NaN</td>\n",
              "      <td>NaN</td>\n",
              "      <td>NaN</td>\n",
              "      <td>NaN</td>\n",
              "      <td>NaN</td>\n",
              "      <td>NaN</td>\n",
              "      <td>NaN</td>\n",
              "      <td>2.865038e-08</td>\n",
              "      <td>2.208467e-08</td>\n",
              "      <td>1.240262e-07</td>\n",
              "      <td>1.241811e-07</td>\n",
              "      <td>9.736840e-08</td>\n",
              "      <td>9.737710e-08</td>\n",
              "      <td>9.014459e-08</td>\n",
              "      <td>9.046495e-08</td>\n",
              "      <td>9.769856e-08</td>\n",
              "      <td>9.765968e-08</td>\n",
              "      <td>NaN</td>\n",
              "      <td>NaN</td>\n",
              "      <td>NaN</td>\n",
              "      <td>NaN</td>\n",
              "      <td>NaN</td>\n",
              "      <td>NaN</td>\n",
              "      <td>NaN</td>\n",
              "      <td>NaN</td>\n",
              "      <td>396146927.0</td>\n",
              "      <td>365972352.0</td>\n",
              "      <td>857412736.0</td>\n",
              "      <td>11891792.0</td>\n",
              "      <td>862855456.0</td>\n",
              "      <td>NaN</td>\n",
              "      <td>0.0</td>\n",
              "      <td>NaN</td>\n",
              "      <td>NaN</td>\n",
              "    </tr>\n",
              "    <tr>\n",
              "      <th>1</th>\n",
              "      <td>1405.5857</td>\n",
              "      <td>122.0</td>\n",
              "      <td>973</td>\n",
              "      <td>8993.0</td>\n",
              "      <td>2275</td>\n",
              "      <td>6285.0</td>\n",
              "      <td>NaN</td>\n",
              "      <td>122</td>\n",
              "      <td>122.0</td>\n",
              "      <td>NaN</td>\n",
              "      <td>46.437500</td>\n",
              "      <td>25.928335</td>\n",
              "      <td>17.493107</td>\n",
              "      <td>19.699451</td>\n",
              "      <td>24.013587</td>\n",
              "      <td>NaN</td>\n",
              "      <td>122.0</td>\n",
              "      <td>122.0</td>\n",
              "      <td>NaN</td>\n",
              "      <td>36.720510</td>\n",
              "      <td>51.695837</td>\n",
              "      <td>56.426351</td>\n",
              "      <td>51.059426</td>\n",
              "      <td>68.625551</td>\n",
              "      <td>NaN</td>\n",
              "      <td>NaN</td>\n",
              "      <td>NaN</td>\n",
              "      <td>NaN</td>\n",
              "      <td>16.0</td>\n",
              "      <td>907</td>\n",
              "      <td>599833.0</td>\n",
              "      <td>4372</td>\n",
              "      <td>105982.0</td>\n",
              "      <td>NaN</td>\n",
              "      <td>1</td>\n",
              "      <td>1.0</td>\n",
              "      <td>NaN</td>\n",
              "      <td>350</td>\n",
              "      <td>41.400000</td>\n",
              "      <td>NaN</td>\n",
              "      <td>...</td>\n",
              "      <td>1.235090e-07</td>\n",
              "      <td>1.650967e-07</td>\n",
              "      <td>1.676729e-07</td>\n",
              "      <td>1.184736e-07</td>\n",
              "      <td>1.185550e-07</td>\n",
              "      <td>NaN</td>\n",
              "      <td>NaN</td>\n",
              "      <td>NaN</td>\n",
              "      <td>NaN</td>\n",
              "      <td>NaN</td>\n",
              "      <td>NaN</td>\n",
              "      <td>NaN</td>\n",
              "      <td>NaN</td>\n",
              "      <td>NaN</td>\n",
              "      <td>NaN</td>\n",
              "      <td>1.169308e-07</td>\n",
              "      <td>1.272801e-07</td>\n",
              "      <td>9.767595e-08</td>\n",
              "      <td>9.769210e-08</td>\n",
              "      <td>1.452152e-07</td>\n",
              "      <td>1.473859e-07</td>\n",
              "      <td>8.235401e-08</td>\n",
              "      <td>8.240357e-08</td>\n",
              "      <td>NaN</td>\n",
              "      <td>NaN</td>\n",
              "      <td>NaN</td>\n",
              "      <td>NaN</td>\n",
              "      <td>NaN</td>\n",
              "      <td>NaN</td>\n",
              "      <td>NaN</td>\n",
              "      <td>NaN</td>\n",
              "      <td>0.0</td>\n",
              "      <td>353286393.0</td>\n",
              "      <td>857412736.0</td>\n",
              "      <td>16759193.0</td>\n",
              "      <td>906930605.0</td>\n",
              "      <td>NaN</td>\n",
              "      <td>0.0</td>\n",
              "      <td>0.0</td>\n",
              "      <td>NaN</td>\n",
              "    </tr>\n",
              "    <tr>\n",
              "      <th>2</th>\n",
              "      <td>1807.01034</td>\n",
              "      <td>7.0</td>\n",
              "      <td>149</td>\n",
              "      <td>8993.0</td>\n",
              "      <td>170</td>\n",
              "      <td>10548.0</td>\n",
              "      <td>NaN</td>\n",
              "      <td>6</td>\n",
              "      <td>6.0</td>\n",
              "      <td>NaN</td>\n",
              "      <td>4.666667</td>\n",
              "      <td>14.250000</td>\n",
              "      <td>17.493107</td>\n",
              "      <td>4.712031</td>\n",
              "      <td>80.369987</td>\n",
              "      <td>NaN</td>\n",
              "      <td>6.0</td>\n",
              "      <td>6.0</td>\n",
              "      <td>NaN</td>\n",
              "      <td>3.214550</td>\n",
              "      <td>24.798418</td>\n",
              "      <td>56.426351</td>\n",
              "      <td>8.610162</td>\n",
              "      <td>220.803446</td>\n",
              "      <td>NaN</td>\n",
              "      <td>NaN</td>\n",
              "      <td>NaN</td>\n",
              "      <td>NaN</td>\n",
              "      <td>3.0</td>\n",
              "      <td>40</td>\n",
              "      <td>599833.0</td>\n",
              "      <td>5386</td>\n",
              "      <td>11868.0</td>\n",
              "      <td>NaN</td>\n",
              "      <td>1</td>\n",
              "      <td>1.0</td>\n",
              "      <td>NaN</td>\n",
              "      <td>32538</td>\n",
              "      <td>7.000000</td>\n",
              "      <td>7.000000</td>\n",
              "      <td>...</td>\n",
              "      <td>1.189586e-07</td>\n",
              "      <td>7.314293e-08</td>\n",
              "      <td>7.990070e-08</td>\n",
              "      <td>5.779050e-07</td>\n",
              "      <td>5.773981e-07</td>\n",
              "      <td>NaN</td>\n",
              "      <td>NaN</td>\n",
              "      <td>NaN</td>\n",
              "      <td>NaN</td>\n",
              "      <td>NaN</td>\n",
              "      <td>NaN</td>\n",
              "      <td>NaN</td>\n",
              "      <td>NaN</td>\n",
              "      <td>NaN</td>\n",
              "      <td>NaN</td>\n",
              "      <td>5.879332e-08</td>\n",
              "      <td>NaN</td>\n",
              "      <td>9.734369e-08</td>\n",
              "      <td>9.734276e-08</td>\n",
              "      <td>7.534008e-08</td>\n",
              "      <td>7.586720e-08</td>\n",
              "      <td>4.619941e-07</td>\n",
              "      <td>4.616960e-07</td>\n",
              "      <td>NaN</td>\n",
              "      <td>NaN</td>\n",
              "      <td>NaN</td>\n",
              "      <td>NaN</td>\n",
              "      <td>NaN</td>\n",
              "      <td>NaN</td>\n",
              "      <td>NaN</td>\n",
              "      <td>NaN</td>\n",
              "      <td>0.0</td>\n",
              "      <td>257874896.0</td>\n",
              "      <td>857412736.0</td>\n",
              "      <td>3056244.0</td>\n",
              "      <td>838120073.0</td>\n",
              "      <td>NaN</td>\n",
              "      <td>0.0</td>\n",
              "      <td>0.0</td>\n",
              "      <td>NaN</td>\n",
              "    </tr>\n",
              "  </tbody>\n",
              "</table>\n",
              "<p>3 rows × 297 columns</p>\n",
              "</div>"
            ],
            "text/plain": [
              "           id  ...  first_created_unixtime_y\n",
              "0   1403.7138  ...                       NaN\n",
              "1   1405.5857  ...                       NaN\n",
              "2  1807.01034  ...                       NaN\n",
              "\n",
              "[3 rows x 297 columns]"
            ]
          },
          "metadata": {
            "tags": []
          },
          "execution_count": 28
        }
      ]
    },
    {
      "cell_type": "code",
      "metadata": {
        "id": "fJ2rMokChnxi"
      },
      "source": [
        "groupby_feat.to_csv(OUTDIR / 'groupby_feat.csv', index=False)"
      ],
      "execution_count": null,
      "outputs": []
    }
  ]
}